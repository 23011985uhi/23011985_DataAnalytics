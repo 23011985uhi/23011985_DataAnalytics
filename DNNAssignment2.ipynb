{
  "nbformat": 4,
  "nbformat_minor": 0,
  "metadata": {
    "colab": {
      "provenance": [],
      "authorship_tag": "ABX9TyMb9fweQ4GbVZKDKAA4YlWS",
      "include_colab_link": true
    },
    "kernelspec": {
      "name": "python3",
      "display_name": "Python 3"
    },
    "language_info": {
      "name": "python"
    }
  },
  "cells": [
    {
      "cell_type": "markdown",
      "metadata": {
        "id": "view-in-github",
        "colab_type": "text"
      },
      "source": [
        "<a href=\"https://colab.research.google.com/github/23011985uhi/23011985_DataAnalytics/blob/main/DNNAssignment2.ipynb\" target=\"_parent\"><img src=\"https://colab.research.google.com/assets/colab-badge.svg\" alt=\"Open In Colab\"/></a>"
      ]
    },
    {
      "cell_type": "markdown",
      "source": [
        "# Deep Neural Network"
      ],
      "metadata": {
        "id": "ALFuXMV2e3il"
      }
    },
    {
      "cell_type": "markdown",
      "source": [
        "The aim is to produce an accurate DNN model that could learn from a training set of data and be able to predict the number of collisions if shown another set of test data. The training and test data have been prepared before using one hot encoding to create many columns incorporating month and day. This is a method of counting unique categories such as a day of the week or what month since there is only a yes/no answer for each state."
      ],
      "metadata": {
        "id": "tUlJih51fIA_"
      }
    },
    {
      "cell_type": "code",
      "execution_count": 196,
      "metadata": {
        "id": "9pDPWVky3PkM"
      },
      "outputs": [],
      "source": [
        "import pandas as pd"
      ]
    },
    {
      "cell_type": "code",
      "source": [
        "dff=pd.read_csv('https://raw.githubusercontent.com/23011985uhi/23011985_DataAnalytics/main/dnndata_nostandard_999removed.csv')"
      ],
      "metadata": {
        "id": "N7bW5go43jMR"
      },
      "execution_count": 197,
      "outputs": []
    },
    {
      "cell_type": "code",
      "source": [
        "import numpy as np"
      ],
      "metadata": {
        "id": "8qYyFziQ8TIe"
      },
      "execution_count": 198,
      "outputs": []
    },
    {
      "cell_type": "code",
      "source": [
        "print(dff)"
      ],
      "metadata": {
        "colab": {
          "base_uri": "https://localhost:8080/"
        },
        "id": "HjSFEXW3381n",
        "outputId": "3c947716-dd4d-40d4-e830-c5173041d9ea"
      },
      "execution_count": 199,
      "outputs": [
        {
          "output_type": "stream",
          "name": "stdout",
          "text": [
            "      Apr  Aug  Dec  Feb  Jan  Jul  Jun  Mar  May  Nov  ...  temp  dewp  \\\n",
            "0       0    0    0    0    1    0    0    0    0    0  ...  37.8  23.6   \n",
            "1       0    0    0    0    1    0    0    0    0    0  ...  27.1  10.5   \n",
            "2       0    0    0    0    1    0    0    0    0    0  ...  28.4  14.1   \n",
            "3       0    0    0    0    1    0    0    0    0    0  ...  33.4  18.6   \n",
            "4       0    0    0    0    1    0    0    0    0    0  ...  36.1  18.7   \n",
            "...   ...  ...  ...  ...  ...  ...  ...  ...  ...  ...  ...   ...   ...   \n",
            "2520    0    0    1    0    0    0    0    0    0    0  ...  49.4  40.9   \n",
            "2521    0    0    1    0    0    0    0    0    0    0  ...  48.0  37.4   \n",
            "2522    0    0    1    0    0    0    0    0    0    0  ...  42.6  30.2   \n",
            "2523    0    0    1    0    0    0    0    0    0    0  ...  39.4  38.3   \n",
            "2524    0    0    1    0    0    0    0    0    0    0  ...  38.7  34.9   \n",
            "\n",
            "      num_collisions     slp  visib  wdsp  gust  prcp  sndp  fog  \n",
            "0                381  1011.9   10.0   6.1  19.0  0.00   0.0    0  \n",
            "1                480  1016.8   10.0   5.3  19.0  0.00   0.0    0  \n",
            "2                549  1020.6   10.0   3.7  15.0  0.00   0.0    0  \n",
            "3                505  1017.0   10.0   6.5  24.1  0.00   0.0    0  \n",
            "4                389  1020.6   10.0   6.6  21.0  0.00   0.0    0  \n",
            "...              ...     ...    ...   ...   ...   ...   ...  ...  \n",
            "2520             448  1024.7    9.9   4.7  18.1  0.00   0.0    0  \n",
            "2521             355  1021.5    8.3   3.8   0.0  0.00   0.0    0  \n",
            "2522             384  1022.7    9.3   3.1   0.0  0.00   0.0    0  \n",
            "2523             518  1012.4    2.7  10.0  34.0  0.56   0.0    1  \n",
            "2524             443  1005.0    9.5   5.3  24.1  0.43   0.0    0  \n",
            "\n",
            "[2525 rows x 30 columns]\n"
          ]
        }
      ]
    },
    {
      "cell_type": "markdown",
      "source": [
        "The data is imported in and shows many more variables than the Linear regressor data. A DNN is working with complex relationships rather than linear ones and so more data and variables may be required to reach an accurate result."
      ],
      "metadata": {
        "id": "ty3eevq6iZPE"
      }
    },
    {
      "cell_type": "code",
      "source": [
        "df = dff.copy()\n",
        "df[\"num_collisions\"] /= 1000\n"
      ],
      "metadata": {
        "id": "JAXC5GKUBNrB"
      },
      "execution_count": 200,
      "outputs": []
    },
    {
      "cell_type": "markdown",
      "source": [
        "The crude scaling method from the Linear methods is being used again since it produced the better models previously. It is simply scaling num_collisions down to a number between 0-1 by dividing by 1000."
      ],
      "metadata": {
        "id": "wQdkdtwGi9yr"
      }
    },
    {
      "cell_type": "code",
      "source": [
        "print(df)"
      ],
      "metadata": {
        "colab": {
          "base_uri": "https://localhost:8080/"
        },
        "id": "Rd6oUQ5jBhYB",
        "outputId": "54b2bae6-0bf9-4545-9bf4-c9b0f3d68c51"
      },
      "execution_count": 201,
      "outputs": [
        {
          "output_type": "stream",
          "name": "stdout",
          "text": [
            "      Apr  Aug  Dec  Feb  Jan  Jul  Jun  Mar  May  Nov  ...  temp  dewp  \\\n",
            "0       0    0    0    0    1    0    0    0    0    0  ...  37.8  23.6   \n",
            "1       0    0    0    0    1    0    0    0    0    0  ...  27.1  10.5   \n",
            "2       0    0    0    0    1    0    0    0    0    0  ...  28.4  14.1   \n",
            "3       0    0    0    0    1    0    0    0    0    0  ...  33.4  18.6   \n",
            "4       0    0    0    0    1    0    0    0    0    0  ...  36.1  18.7   \n",
            "...   ...  ...  ...  ...  ...  ...  ...  ...  ...  ...  ...   ...   ...   \n",
            "2520    0    0    1    0    0    0    0    0    0    0  ...  49.4  40.9   \n",
            "2521    0    0    1    0    0    0    0    0    0    0  ...  48.0  37.4   \n",
            "2522    0    0    1    0    0    0    0    0    0    0  ...  42.6  30.2   \n",
            "2523    0    0    1    0    0    0    0    0    0    0  ...  39.4  38.3   \n",
            "2524    0    0    1    0    0    0    0    0    0    0  ...  38.7  34.9   \n",
            "\n",
            "      num_collisions     slp  visib  wdsp  gust  prcp  sndp  fog  \n",
            "0              0.381  1011.9   10.0   6.1  19.0  0.00   0.0    0  \n",
            "1              0.480  1016.8   10.0   5.3  19.0  0.00   0.0    0  \n",
            "2              0.549  1020.6   10.0   3.7  15.0  0.00   0.0    0  \n",
            "3              0.505  1017.0   10.0   6.5  24.1  0.00   0.0    0  \n",
            "4              0.389  1020.6   10.0   6.6  21.0  0.00   0.0    0  \n",
            "...              ...     ...    ...   ...   ...   ...   ...  ...  \n",
            "2520           0.448  1024.7    9.9   4.7  18.1  0.00   0.0    0  \n",
            "2521           0.355  1021.5    8.3   3.8   0.0  0.00   0.0    0  \n",
            "2522           0.384  1022.7    9.3   3.1   0.0  0.00   0.0    0  \n",
            "2523           0.518  1012.4    2.7  10.0  34.0  0.56   0.0    1  \n",
            "2524           0.443  1005.0    9.5   5.3  24.1  0.43   0.0    0  \n",
            "\n",
            "[2525 rows x 30 columns]\n"
          ]
        }
      ]
    },
    {
      "cell_type": "code",
      "source": [
        "\n",
        "import tensorflow as tf\n",
        "\n",
        "from tensorflow import keras\n",
        "from tensorflow.keras import layers\n",
        "\n",
        "print(tf.__version__)"
      ],
      "metadata": {
        "colab": {
          "base_uri": "https://localhost:8080/"
        },
        "id": "HogtztT54Uam",
        "outputId": "1293870b-ae4d-4c4f-9139-711206bfa40b"
      },
      "execution_count": 202,
      "outputs": [
        {
          "output_type": "stream",
          "name": "stdout",
          "text": [
            "2.15.0\n"
          ]
        }
      ]
    },
    {
      "cell_type": "code",
      "source": [
        "dnn_input_data = [df[\"year\"], df[\"temp\"], df[\"dewp\"], df[\"num_collisions\"], df[\"Sat\"], df[\"Sun\"], df[\"Mon\"], df[\"Tue\"], df[\"Wed\"], df[\"Thu\"], df[\"Fri\"], df[\"Jan\"], df[\"Feb\"], df[\"Mar\"], df[\"Apr\"], df[\"May\"], df[\"Jun\"], df[\"Jul\"], df[\"Aug\"], df[\"Sep\"], df[\"Oct\"], df[\"Nov\"], df[\"Dec\"], df[\"slp\"], df[\"visib\"], df[\"wdsp\"], df[\"gust\"], df[\"prcp\"], df[\"sndp\"], df[\"fog\"]]\n",
        "headers = [\"year\",\"temp\", \"dewp\", \"num_collisions\", \"Sat\",\"Sun\",\"Mon\",\"Tue\",\"Wed\",\"Thu\",\"Fri\",\"Jan\",\"Feb\",\"Mar\",\"Apr\",\"May\",\"Jun\",\"Jul\",\"Aug\",\"Sep\",\"Oct\",\"Nov\",\"Dec\",\"slp\",\"visib\",\"wdsp\",\"gust\",\"prcp\",\"sndp\",\"fog\"]\n",
        "df_dnn_input = pd.concat(dnn_input_data, axis=1, keys=headers)\n",
        "df_dnn_input.head()"
      ],
      "metadata": {
        "colab": {
          "base_uri": "https://localhost:8080/",
          "height": 236
        },
        "id": "9zoq6T-c5dl0",
        "outputId": "8b56f5ab-3780-4f9f-da44-821686a69adc"
      },
      "execution_count": 203,
      "outputs": [
        {
          "output_type": "execute_result",
          "data": {
            "text/plain": [
              "   year  temp  dewp  num_collisions  Sat  Sun  Mon  Tue  Wed  Thu  ...  Oct  \\\n",
              "0  2013  37.8  23.6           0.381    0    0    0    1    0    0  ...    0   \n",
              "1  2013  27.1  10.5           0.480    0    0    0    0    1    0  ...    0   \n",
              "2  2013  28.4  14.1           0.549    0    0    0    0    0    1  ...    0   \n",
              "3  2013  33.4  18.6           0.505    0    0    0    0    0    0  ...    0   \n",
              "4  2013  36.1  18.7           0.389    1    0    0    0    0    0  ...    0   \n",
              "\n",
              "   Nov  Dec     slp  visib  wdsp  gust  prcp  sndp  fog  \n",
              "0    0    0  1011.9   10.0   6.1  19.0   0.0   0.0    0  \n",
              "1    0    0  1016.8   10.0   5.3  19.0   0.0   0.0    0  \n",
              "2    0    0  1020.6   10.0   3.7  15.0   0.0   0.0    0  \n",
              "3    0    0  1017.0   10.0   6.5  24.1   0.0   0.0    0  \n",
              "4    0    0  1020.6   10.0   6.6  21.0   0.0   0.0    0  \n",
              "\n",
              "[5 rows x 30 columns]"
            ],
            "text/html": [
              "\n",
              "  <div id=\"df-db09bab6-3ad1-4264-ac09-3025d7c4d8d5\" class=\"colab-df-container\">\n",
              "    <div>\n",
              "<style scoped>\n",
              "    .dataframe tbody tr th:only-of-type {\n",
              "        vertical-align: middle;\n",
              "    }\n",
              "\n",
              "    .dataframe tbody tr th {\n",
              "        vertical-align: top;\n",
              "    }\n",
              "\n",
              "    .dataframe thead th {\n",
              "        text-align: right;\n",
              "    }\n",
              "</style>\n",
              "<table border=\"1\" class=\"dataframe\">\n",
              "  <thead>\n",
              "    <tr style=\"text-align: right;\">\n",
              "      <th></th>\n",
              "      <th>year</th>\n",
              "      <th>temp</th>\n",
              "      <th>dewp</th>\n",
              "      <th>num_collisions</th>\n",
              "      <th>Sat</th>\n",
              "      <th>Sun</th>\n",
              "      <th>Mon</th>\n",
              "      <th>Tue</th>\n",
              "      <th>Wed</th>\n",
              "      <th>Thu</th>\n",
              "      <th>...</th>\n",
              "      <th>Oct</th>\n",
              "      <th>Nov</th>\n",
              "      <th>Dec</th>\n",
              "      <th>slp</th>\n",
              "      <th>visib</th>\n",
              "      <th>wdsp</th>\n",
              "      <th>gust</th>\n",
              "      <th>prcp</th>\n",
              "      <th>sndp</th>\n",
              "      <th>fog</th>\n",
              "    </tr>\n",
              "  </thead>\n",
              "  <tbody>\n",
              "    <tr>\n",
              "      <th>0</th>\n",
              "      <td>2013</td>\n",
              "      <td>37.8</td>\n",
              "      <td>23.6</td>\n",
              "      <td>0.381</td>\n",
              "      <td>0</td>\n",
              "      <td>0</td>\n",
              "      <td>0</td>\n",
              "      <td>1</td>\n",
              "      <td>0</td>\n",
              "      <td>0</td>\n",
              "      <td>...</td>\n",
              "      <td>0</td>\n",
              "      <td>0</td>\n",
              "      <td>0</td>\n",
              "      <td>1011.9</td>\n",
              "      <td>10.0</td>\n",
              "      <td>6.1</td>\n",
              "      <td>19.0</td>\n",
              "      <td>0.0</td>\n",
              "      <td>0.0</td>\n",
              "      <td>0</td>\n",
              "    </tr>\n",
              "    <tr>\n",
              "      <th>1</th>\n",
              "      <td>2013</td>\n",
              "      <td>27.1</td>\n",
              "      <td>10.5</td>\n",
              "      <td>0.480</td>\n",
              "      <td>0</td>\n",
              "      <td>0</td>\n",
              "      <td>0</td>\n",
              "      <td>0</td>\n",
              "      <td>1</td>\n",
              "      <td>0</td>\n",
              "      <td>...</td>\n",
              "      <td>0</td>\n",
              "      <td>0</td>\n",
              "      <td>0</td>\n",
              "      <td>1016.8</td>\n",
              "      <td>10.0</td>\n",
              "      <td>5.3</td>\n",
              "      <td>19.0</td>\n",
              "      <td>0.0</td>\n",
              "      <td>0.0</td>\n",
              "      <td>0</td>\n",
              "    </tr>\n",
              "    <tr>\n",
              "      <th>2</th>\n",
              "      <td>2013</td>\n",
              "      <td>28.4</td>\n",
              "      <td>14.1</td>\n",
              "      <td>0.549</td>\n",
              "      <td>0</td>\n",
              "      <td>0</td>\n",
              "      <td>0</td>\n",
              "      <td>0</td>\n",
              "      <td>0</td>\n",
              "      <td>1</td>\n",
              "      <td>...</td>\n",
              "      <td>0</td>\n",
              "      <td>0</td>\n",
              "      <td>0</td>\n",
              "      <td>1020.6</td>\n",
              "      <td>10.0</td>\n",
              "      <td>3.7</td>\n",
              "      <td>15.0</td>\n",
              "      <td>0.0</td>\n",
              "      <td>0.0</td>\n",
              "      <td>0</td>\n",
              "    </tr>\n",
              "    <tr>\n",
              "      <th>3</th>\n",
              "      <td>2013</td>\n",
              "      <td>33.4</td>\n",
              "      <td>18.6</td>\n",
              "      <td>0.505</td>\n",
              "      <td>0</td>\n",
              "      <td>0</td>\n",
              "      <td>0</td>\n",
              "      <td>0</td>\n",
              "      <td>0</td>\n",
              "      <td>0</td>\n",
              "      <td>...</td>\n",
              "      <td>0</td>\n",
              "      <td>0</td>\n",
              "      <td>0</td>\n",
              "      <td>1017.0</td>\n",
              "      <td>10.0</td>\n",
              "      <td>6.5</td>\n",
              "      <td>24.1</td>\n",
              "      <td>0.0</td>\n",
              "      <td>0.0</td>\n",
              "      <td>0</td>\n",
              "    </tr>\n",
              "    <tr>\n",
              "      <th>4</th>\n",
              "      <td>2013</td>\n",
              "      <td>36.1</td>\n",
              "      <td>18.7</td>\n",
              "      <td>0.389</td>\n",
              "      <td>1</td>\n",
              "      <td>0</td>\n",
              "      <td>0</td>\n",
              "      <td>0</td>\n",
              "      <td>0</td>\n",
              "      <td>0</td>\n",
              "      <td>...</td>\n",
              "      <td>0</td>\n",
              "      <td>0</td>\n",
              "      <td>0</td>\n",
              "      <td>1020.6</td>\n",
              "      <td>10.0</td>\n",
              "      <td>6.6</td>\n",
              "      <td>21.0</td>\n",
              "      <td>0.0</td>\n",
              "      <td>0.0</td>\n",
              "      <td>0</td>\n",
              "    </tr>\n",
              "  </tbody>\n",
              "</table>\n",
              "<p>5 rows × 30 columns</p>\n",
              "</div>\n",
              "    <div class=\"colab-df-buttons\">\n",
              "\n",
              "  <div class=\"colab-df-container\">\n",
              "    <button class=\"colab-df-convert\" onclick=\"convertToInteractive('df-db09bab6-3ad1-4264-ac09-3025d7c4d8d5')\"\n",
              "            title=\"Convert this dataframe to an interactive table.\"\n",
              "            style=\"display:none;\">\n",
              "\n",
              "  <svg xmlns=\"http://www.w3.org/2000/svg\" height=\"24px\" viewBox=\"0 -960 960 960\">\n",
              "    <path d=\"M120-120v-720h720v720H120Zm60-500h600v-160H180v160Zm220 220h160v-160H400v160Zm0 220h160v-160H400v160ZM180-400h160v-160H180v160Zm440 0h160v-160H620v160ZM180-180h160v-160H180v160Zm440 0h160v-160H620v160Z\"/>\n",
              "  </svg>\n",
              "    </button>\n",
              "\n",
              "  <style>\n",
              "    .colab-df-container {\n",
              "      display:flex;\n",
              "      gap: 12px;\n",
              "    }\n",
              "\n",
              "    .colab-df-convert {\n",
              "      background-color: #E8F0FE;\n",
              "      border: none;\n",
              "      border-radius: 50%;\n",
              "      cursor: pointer;\n",
              "      display: none;\n",
              "      fill: #1967D2;\n",
              "      height: 32px;\n",
              "      padding: 0 0 0 0;\n",
              "      width: 32px;\n",
              "    }\n",
              "\n",
              "    .colab-df-convert:hover {\n",
              "      background-color: #E2EBFA;\n",
              "      box-shadow: 0px 1px 2px rgba(60, 64, 67, 0.3), 0px 1px 3px 1px rgba(60, 64, 67, 0.15);\n",
              "      fill: #174EA6;\n",
              "    }\n",
              "\n",
              "    .colab-df-buttons div {\n",
              "      margin-bottom: 4px;\n",
              "    }\n",
              "\n",
              "    [theme=dark] .colab-df-convert {\n",
              "      background-color: #3B4455;\n",
              "      fill: #D2E3FC;\n",
              "    }\n",
              "\n",
              "    [theme=dark] .colab-df-convert:hover {\n",
              "      background-color: #434B5C;\n",
              "      box-shadow: 0px 1px 3px 1px rgba(0, 0, 0, 0.15);\n",
              "      filter: drop-shadow(0px 1px 2px rgba(0, 0, 0, 0.3));\n",
              "      fill: #FFFFFF;\n",
              "    }\n",
              "  </style>\n",
              "\n",
              "    <script>\n",
              "      const buttonEl =\n",
              "        document.querySelector('#df-db09bab6-3ad1-4264-ac09-3025d7c4d8d5 button.colab-df-convert');\n",
              "      buttonEl.style.display =\n",
              "        google.colab.kernel.accessAllowed ? 'block' : 'none';\n",
              "\n",
              "      async function convertToInteractive(key) {\n",
              "        const element = document.querySelector('#df-db09bab6-3ad1-4264-ac09-3025d7c4d8d5');\n",
              "        const dataTable =\n",
              "          await google.colab.kernel.invokeFunction('convertToInteractive',\n",
              "                                                    [key], {});\n",
              "        if (!dataTable) return;\n",
              "\n",
              "        const docLinkHtml = 'Like what you see? Visit the ' +\n",
              "          '<a target=\"_blank\" href=https://colab.research.google.com/notebooks/data_table.ipynb>data table notebook</a>'\n",
              "          + ' to learn more about interactive tables.';\n",
              "        element.innerHTML = '';\n",
              "        dataTable['output_type'] = 'display_data';\n",
              "        await google.colab.output.renderOutput(dataTable, element);\n",
              "        const docLink = document.createElement('div');\n",
              "        docLink.innerHTML = docLinkHtml;\n",
              "        element.appendChild(docLink);\n",
              "      }\n",
              "    </script>\n",
              "  </div>\n",
              "\n",
              "\n",
              "<div id=\"df-f3ca7515-c369-448e-9909-790f17703a9f\">\n",
              "  <button class=\"colab-df-quickchart\" onclick=\"quickchart('df-f3ca7515-c369-448e-9909-790f17703a9f')\"\n",
              "            title=\"Suggest charts\"\n",
              "            style=\"display:none;\">\n",
              "\n",
              "<svg xmlns=\"http://www.w3.org/2000/svg\" height=\"24px\"viewBox=\"0 0 24 24\"\n",
              "     width=\"24px\">\n",
              "    <g>\n",
              "        <path d=\"M19 3H5c-1.1 0-2 .9-2 2v14c0 1.1.9 2 2 2h14c1.1 0 2-.9 2-2V5c0-1.1-.9-2-2-2zM9 17H7v-7h2v7zm4 0h-2V7h2v10zm4 0h-2v-4h2v4z\"/>\n",
              "    </g>\n",
              "</svg>\n",
              "  </button>\n",
              "\n",
              "<style>\n",
              "  .colab-df-quickchart {\n",
              "      --bg-color: #E8F0FE;\n",
              "      --fill-color: #1967D2;\n",
              "      --hover-bg-color: #E2EBFA;\n",
              "      --hover-fill-color: #174EA6;\n",
              "      --disabled-fill-color: #AAA;\n",
              "      --disabled-bg-color: #DDD;\n",
              "  }\n",
              "\n",
              "  [theme=dark] .colab-df-quickchart {\n",
              "      --bg-color: #3B4455;\n",
              "      --fill-color: #D2E3FC;\n",
              "      --hover-bg-color: #434B5C;\n",
              "      --hover-fill-color: #FFFFFF;\n",
              "      --disabled-bg-color: #3B4455;\n",
              "      --disabled-fill-color: #666;\n",
              "  }\n",
              "\n",
              "  .colab-df-quickchart {\n",
              "    background-color: var(--bg-color);\n",
              "    border: none;\n",
              "    border-radius: 50%;\n",
              "    cursor: pointer;\n",
              "    display: none;\n",
              "    fill: var(--fill-color);\n",
              "    height: 32px;\n",
              "    padding: 0;\n",
              "    width: 32px;\n",
              "  }\n",
              "\n",
              "  .colab-df-quickchart:hover {\n",
              "    background-color: var(--hover-bg-color);\n",
              "    box-shadow: 0 1px 2px rgba(60, 64, 67, 0.3), 0 1px 3px 1px rgba(60, 64, 67, 0.15);\n",
              "    fill: var(--button-hover-fill-color);\n",
              "  }\n",
              "\n",
              "  .colab-df-quickchart-complete:disabled,\n",
              "  .colab-df-quickchart-complete:disabled:hover {\n",
              "    background-color: var(--disabled-bg-color);\n",
              "    fill: var(--disabled-fill-color);\n",
              "    box-shadow: none;\n",
              "  }\n",
              "\n",
              "  .colab-df-spinner {\n",
              "    border: 2px solid var(--fill-color);\n",
              "    border-color: transparent;\n",
              "    border-bottom-color: var(--fill-color);\n",
              "    animation:\n",
              "      spin 1s steps(1) infinite;\n",
              "  }\n",
              "\n",
              "  @keyframes spin {\n",
              "    0% {\n",
              "      border-color: transparent;\n",
              "      border-bottom-color: var(--fill-color);\n",
              "      border-left-color: var(--fill-color);\n",
              "    }\n",
              "    20% {\n",
              "      border-color: transparent;\n",
              "      border-left-color: var(--fill-color);\n",
              "      border-top-color: var(--fill-color);\n",
              "    }\n",
              "    30% {\n",
              "      border-color: transparent;\n",
              "      border-left-color: var(--fill-color);\n",
              "      border-top-color: var(--fill-color);\n",
              "      border-right-color: var(--fill-color);\n",
              "    }\n",
              "    40% {\n",
              "      border-color: transparent;\n",
              "      border-right-color: var(--fill-color);\n",
              "      border-top-color: var(--fill-color);\n",
              "    }\n",
              "    60% {\n",
              "      border-color: transparent;\n",
              "      border-right-color: var(--fill-color);\n",
              "    }\n",
              "    80% {\n",
              "      border-color: transparent;\n",
              "      border-right-color: var(--fill-color);\n",
              "      border-bottom-color: var(--fill-color);\n",
              "    }\n",
              "    90% {\n",
              "      border-color: transparent;\n",
              "      border-bottom-color: var(--fill-color);\n",
              "    }\n",
              "  }\n",
              "</style>\n",
              "\n",
              "  <script>\n",
              "    async function quickchart(key) {\n",
              "      const quickchartButtonEl =\n",
              "        document.querySelector('#' + key + ' button');\n",
              "      quickchartButtonEl.disabled = true;  // To prevent multiple clicks.\n",
              "      quickchartButtonEl.classList.add('colab-df-spinner');\n",
              "      try {\n",
              "        const charts = await google.colab.kernel.invokeFunction(\n",
              "            'suggestCharts', [key], {});\n",
              "      } catch (error) {\n",
              "        console.error('Error during call to suggestCharts:', error);\n",
              "      }\n",
              "      quickchartButtonEl.classList.remove('colab-df-spinner');\n",
              "      quickchartButtonEl.classList.add('colab-df-quickchart-complete');\n",
              "    }\n",
              "    (() => {\n",
              "      let quickchartButtonEl =\n",
              "        document.querySelector('#df-f3ca7515-c369-448e-9909-790f17703a9f button');\n",
              "      quickchartButtonEl.style.display =\n",
              "        google.colab.kernel.accessAllowed ? 'block' : 'none';\n",
              "    })();\n",
              "  </script>\n",
              "</div>\n",
              "    </div>\n",
              "  </div>\n"
            ]
          },
          "metadata": {},
          "execution_count": 203
        }
      ]
    },
    {
      "cell_type": "markdown",
      "source": [
        "This is the datafram formatting and creation. The test dataset used later will need to have the same format and layout or the testing process will not work."
      ],
      "metadata": {
        "id": "t4EQQuaNjSUk"
      }
    },
    {
      "cell_type": "code",
      "source": [
        "training_dataset = df_dnn_input.sample(frac=0.8, random_state=0)\n",
        "test_dataset = df_dnn_input.drop(training_dataset.index)"
      ],
      "metadata": {
        "id": "NKq0Ff-Y79Ev"
      },
      "execution_count": 204,
      "outputs": []
    },
    {
      "cell_type": "markdown",
      "source": [
        "The model is trained on 80% of the data and tested on 20% , like the linear models previously. A DNN is similar to a linear model but has more layers."
      ],
      "metadata": {
        "id": "ZEZj8v58jcf6"
      }
    },
    {
      "cell_type": "code",
      "source": [
        "training_features = training_dataset.copy()\n",
        "test_features = test_dataset.copy()\n",
        "\n",
        "training_labels = training_features.pop('num_collisions')\n",
        "test_labels = test_features.pop('num_collisions')"
      ],
      "metadata": {
        "id": "Qhw_e3dd79zW"
      },
      "execution_count": 205,
      "outputs": []
    },
    {
      "cell_type": "code",
      "source": [
        "normaliser = tf.keras.layers.Normalization(axis=-1)\n",
        "normaliser.adapt(np.array(training_features))"
      ],
      "metadata": {
        "id": "IeTilhwW8CrW"
      },
      "execution_count": 206,
      "outputs": []
    },
    {
      "cell_type": "code",
      "source": [
        "dnn_model_1 = keras.Sequential([\n",
        "      normaliser,\n",
        "      layers.Dense(48, activation='relu'),\n",
        "      layers.Dense(48, activation='relu'),\n",
        "      layers.Dense(1)\n",
        "  ])\n",
        "\n",
        "dnn_model_1.compile(loss='mean_absolute_error',\n",
        "                optimizer=tf.keras.optimizers.Adam(0.001))"
      ],
      "metadata": {
        "id": "AJvSQbCj8IDm"
      },
      "execution_count": 207,
      "outputs": []
    },
    {
      "cell_type": "markdown",
      "source": [
        "This is the same process as the linear models except you can see above how there are 48 layers compared to the linear of 1."
      ],
      "metadata": {
        "id": "7OSc1hOnjtvD"
      }
    },
    {
      "cell_type": "code",
      "source": [
        "%%time\n",
        "history = dnn_model_1.fit(\n",
        "    training_features,\n",
        "    training_labels,\n",
        "    validation_split=0.2,\n",
        "    verbose=0,\n",
        "    epochs=100)"
      ],
      "metadata": {
        "colab": {
          "base_uri": "https://localhost:8080/"
        },
        "id": "nRKZtK-u8J7e",
        "outputId": "b61bdd69-59fe-4390-bbd8-8f71b05ef094"
      },
      "execution_count": 208,
      "outputs": [
        {
          "output_type": "stream",
          "name": "stdout",
          "text": [
            "CPU times: user 14.9 s, sys: 678 ms, total: 15.6 s\n",
            "Wall time: 21.2 s\n"
          ]
        }
      ]
    },
    {
      "cell_type": "markdown",
      "source": [
        "The training features and training labels are fit to the model and it is run 100 times with another 20% validation."
      ],
      "metadata": {
        "id": "0uZtP4dIj4Xq"
      }
    },
    {
      "cell_type": "code",
      "source": [
        "dnn_model_1_results = dnn_model_1.evaluate(test_features, test_labels, verbose=0)\n",
        "print(dnn_model_1_results)"
      ],
      "metadata": {
        "colab": {
          "base_uri": "https://localhost:8080/"
        },
        "id": "h2HXbofI8L6Y",
        "outputId": "3a51ef08-f488-4e2e-e554-30c0958ea32d"
      },
      "execution_count": 209,
      "outputs": [
        {
          "output_type": "stream",
          "name": "stdout",
          "text": [
            "0.06483278423547745\n"
          ]
        }
      ]
    },
    {
      "cell_type": "markdown",
      "source": [
        "The results are quite promising and show a very low value. The closer to 0 should be a better and more accurate model. Just need to test the model to see if it can predict accurately or not."
      ],
      "metadata": {
        "id": "RpJp2gVwj_4Z"
      }
    },
    {
      "cell_type": "code",
      "source": [
        "testdf = pd.read_csv('https://raw.githubusercontent.com/23011985uhi/23011985_DataAnalytics/main/dnndatatestgood.csv', index_col=0)"
      ],
      "metadata": {
        "id": "sjlWBVWvhyGq"
      },
      "execution_count": 210,
      "outputs": []
    },
    {
      "cell_type": "code",
      "source": [
        "testdf.replace(999.9, 0, inplace=True)"
      ],
      "metadata": {
        "id": "rSK5Hx8l8RZ8"
      },
      "execution_count": 211,
      "outputs": []
    },
    {
      "cell_type": "markdown",
      "source": [
        "The test data had some unknown values that were being displayed as 999.9 in the dataset. This code just takes all the 999.9 unknown values and sets them to 0. It could effect the results but it should not be much as its just replacing one constant for another."
      ],
      "metadata": {
        "id": "lZUI0XRflR52"
      }
    },
    {
      "cell_type": "code",
      "source": [
        "testdf = [testdf[\"year\"], testdf[\"temp\"], testdf[\"dewp\"], testdf[\"num_collisions\"], testdf[\"Sat\"], testdf[\"Sun\"], testdf[\"Mon\"], testdf[\"Tue\"], testdf[\"Wed\"], testdf[\"Thu\"], testdf[\"Fri\"], testdf[\"Jan\"], testdf[\"Feb\"], testdf[\"Mar\"], testdf[\"Apr\"], testdf[\"May\"], testdf[\"Jun\"], testdf[\"Jul\"], testdf[\"Aug\"], testdf[\"Sep\"], testdf[\"Oct\"], testdf[\"Nov\"], testdf[\"Dec\"], testdf[\"slp\"], testdf[\"visib\"], testdf[\"wdsp\"], testdf[\"gust\"], testdf[\"prcp\"], testdf[\"sndp\"], testdf[\"fog\"]]\n",
        "headers = [\"year\",\"temp\", \"dewp\", \"num_collisions\", \"Sat\",\"Sun\",\"Mon\",\"Tue\",\"Wed\",\"Thu\",\"Fri\",\"Jan\",\"Feb\",\"Mar\",\"Apr\",\"May\",\"Jun\",\"Jul\",\"Aug\",\"Sep\",\"Oct\",\"Nov\",\"Dec\",\"slp\",\"visib\",\"wdsp\",\"gust\",\"prcp\",\"sndp\",\"fog\"]\n",
        "testdf = pd.concat(testdf, axis=1, keys=headers)\n",
        "testdf.head()"
      ],
      "metadata": {
        "colab": {
          "base_uri": "https://localhost:8080/",
          "height": 236
        },
        "id": "Q990ztFwdtWm",
        "outputId": "369968a3-6c65-4a35-bb39-c7dbd1bcafd9"
      },
      "execution_count": 212,
      "outputs": [
        {
          "output_type": "execute_result",
          "data": {
            "text/plain": [
              "   year  temp  dewp  num_collisions  Sat  Sun  Mon  Tue  Wed  Thu  ...  Oct  \\\n",
              "1  2020  39.0  23.9             346    0    0    1    0    0    0  ...    0   \n",
              "2  2020  39.6  22.4             413    0    0    0    1    0    0  ...    0   \n",
              "3  2020  46.6  38.6             456    0    0    0    0    1    0  ...    0   \n",
              "4  2020  48.6  46.2             353    0    0    0    0    0    1  ...    0   \n",
              "5  2020  40.2  24.7             291    0    0    0    0    0    0  ...    0   \n",
              "\n",
              "   Nov  Dec     slp  visib  wdsp  gust  prcp  sndp  fog  \n",
              "1    0    0  1006.0   10.0   7.9  21.0  0.02   0.0    0  \n",
              "2    0    0  1013.2   10.0   5.2  17.1  0.00   0.0    0  \n",
              "3    0    0  1009.7    8.1   3.7  15.0  0.06   0.0    0  \n",
              "4    0    0  1005.7    4.9   2.8   0.0  0.34   0.0    1  \n",
              "5    0    0  1007.9   10.0  10.5  34.0  0.02   0.0    0  \n",
              "\n",
              "[5 rows x 30 columns]"
            ],
            "text/html": [
              "\n",
              "  <div id=\"df-e7bae17e-aef0-4485-9a11-980afe07e5f8\" class=\"colab-df-container\">\n",
              "    <div>\n",
              "<style scoped>\n",
              "    .dataframe tbody tr th:only-of-type {\n",
              "        vertical-align: middle;\n",
              "    }\n",
              "\n",
              "    .dataframe tbody tr th {\n",
              "        vertical-align: top;\n",
              "    }\n",
              "\n",
              "    .dataframe thead th {\n",
              "        text-align: right;\n",
              "    }\n",
              "</style>\n",
              "<table border=\"1\" class=\"dataframe\">\n",
              "  <thead>\n",
              "    <tr style=\"text-align: right;\">\n",
              "      <th></th>\n",
              "      <th>year</th>\n",
              "      <th>temp</th>\n",
              "      <th>dewp</th>\n",
              "      <th>num_collisions</th>\n",
              "      <th>Sat</th>\n",
              "      <th>Sun</th>\n",
              "      <th>Mon</th>\n",
              "      <th>Tue</th>\n",
              "      <th>Wed</th>\n",
              "      <th>Thu</th>\n",
              "      <th>...</th>\n",
              "      <th>Oct</th>\n",
              "      <th>Nov</th>\n",
              "      <th>Dec</th>\n",
              "      <th>slp</th>\n",
              "      <th>visib</th>\n",
              "      <th>wdsp</th>\n",
              "      <th>gust</th>\n",
              "      <th>prcp</th>\n",
              "      <th>sndp</th>\n",
              "      <th>fog</th>\n",
              "    </tr>\n",
              "  </thead>\n",
              "  <tbody>\n",
              "    <tr>\n",
              "      <th>1</th>\n",
              "      <td>2020</td>\n",
              "      <td>39.0</td>\n",
              "      <td>23.9</td>\n",
              "      <td>346</td>\n",
              "      <td>0</td>\n",
              "      <td>0</td>\n",
              "      <td>1</td>\n",
              "      <td>0</td>\n",
              "      <td>0</td>\n",
              "      <td>0</td>\n",
              "      <td>...</td>\n",
              "      <td>0</td>\n",
              "      <td>0</td>\n",
              "      <td>0</td>\n",
              "      <td>1006.0</td>\n",
              "      <td>10.0</td>\n",
              "      <td>7.9</td>\n",
              "      <td>21.0</td>\n",
              "      <td>0.02</td>\n",
              "      <td>0.0</td>\n",
              "      <td>0</td>\n",
              "    </tr>\n",
              "    <tr>\n",
              "      <th>2</th>\n",
              "      <td>2020</td>\n",
              "      <td>39.6</td>\n",
              "      <td>22.4</td>\n",
              "      <td>413</td>\n",
              "      <td>0</td>\n",
              "      <td>0</td>\n",
              "      <td>0</td>\n",
              "      <td>1</td>\n",
              "      <td>0</td>\n",
              "      <td>0</td>\n",
              "      <td>...</td>\n",
              "      <td>0</td>\n",
              "      <td>0</td>\n",
              "      <td>0</td>\n",
              "      <td>1013.2</td>\n",
              "      <td>10.0</td>\n",
              "      <td>5.2</td>\n",
              "      <td>17.1</td>\n",
              "      <td>0.00</td>\n",
              "      <td>0.0</td>\n",
              "      <td>0</td>\n",
              "    </tr>\n",
              "    <tr>\n",
              "      <th>3</th>\n",
              "      <td>2020</td>\n",
              "      <td>46.6</td>\n",
              "      <td>38.6</td>\n",
              "      <td>456</td>\n",
              "      <td>0</td>\n",
              "      <td>0</td>\n",
              "      <td>0</td>\n",
              "      <td>0</td>\n",
              "      <td>1</td>\n",
              "      <td>0</td>\n",
              "      <td>...</td>\n",
              "      <td>0</td>\n",
              "      <td>0</td>\n",
              "      <td>0</td>\n",
              "      <td>1009.7</td>\n",
              "      <td>8.1</td>\n",
              "      <td>3.7</td>\n",
              "      <td>15.0</td>\n",
              "      <td>0.06</td>\n",
              "      <td>0.0</td>\n",
              "      <td>0</td>\n",
              "    </tr>\n",
              "    <tr>\n",
              "      <th>4</th>\n",
              "      <td>2020</td>\n",
              "      <td>48.6</td>\n",
              "      <td>46.2</td>\n",
              "      <td>353</td>\n",
              "      <td>0</td>\n",
              "      <td>0</td>\n",
              "      <td>0</td>\n",
              "      <td>0</td>\n",
              "      <td>0</td>\n",
              "      <td>1</td>\n",
              "      <td>...</td>\n",
              "      <td>0</td>\n",
              "      <td>0</td>\n",
              "      <td>0</td>\n",
              "      <td>1005.7</td>\n",
              "      <td>4.9</td>\n",
              "      <td>2.8</td>\n",
              "      <td>0.0</td>\n",
              "      <td>0.34</td>\n",
              "      <td>0.0</td>\n",
              "      <td>1</td>\n",
              "    </tr>\n",
              "    <tr>\n",
              "      <th>5</th>\n",
              "      <td>2020</td>\n",
              "      <td>40.2</td>\n",
              "      <td>24.7</td>\n",
              "      <td>291</td>\n",
              "      <td>0</td>\n",
              "      <td>0</td>\n",
              "      <td>0</td>\n",
              "      <td>0</td>\n",
              "      <td>0</td>\n",
              "      <td>0</td>\n",
              "      <td>...</td>\n",
              "      <td>0</td>\n",
              "      <td>0</td>\n",
              "      <td>0</td>\n",
              "      <td>1007.9</td>\n",
              "      <td>10.0</td>\n",
              "      <td>10.5</td>\n",
              "      <td>34.0</td>\n",
              "      <td>0.02</td>\n",
              "      <td>0.0</td>\n",
              "      <td>0</td>\n",
              "    </tr>\n",
              "  </tbody>\n",
              "</table>\n",
              "<p>5 rows × 30 columns</p>\n",
              "</div>\n",
              "    <div class=\"colab-df-buttons\">\n",
              "\n",
              "  <div class=\"colab-df-container\">\n",
              "    <button class=\"colab-df-convert\" onclick=\"convertToInteractive('df-e7bae17e-aef0-4485-9a11-980afe07e5f8')\"\n",
              "            title=\"Convert this dataframe to an interactive table.\"\n",
              "            style=\"display:none;\">\n",
              "\n",
              "  <svg xmlns=\"http://www.w3.org/2000/svg\" height=\"24px\" viewBox=\"0 -960 960 960\">\n",
              "    <path d=\"M120-120v-720h720v720H120Zm60-500h600v-160H180v160Zm220 220h160v-160H400v160Zm0 220h160v-160H400v160ZM180-400h160v-160H180v160Zm440 0h160v-160H620v160ZM180-180h160v-160H180v160Zm440 0h160v-160H620v160Z\"/>\n",
              "  </svg>\n",
              "    </button>\n",
              "\n",
              "  <style>\n",
              "    .colab-df-container {\n",
              "      display:flex;\n",
              "      gap: 12px;\n",
              "    }\n",
              "\n",
              "    .colab-df-convert {\n",
              "      background-color: #E8F0FE;\n",
              "      border: none;\n",
              "      border-radius: 50%;\n",
              "      cursor: pointer;\n",
              "      display: none;\n",
              "      fill: #1967D2;\n",
              "      height: 32px;\n",
              "      padding: 0 0 0 0;\n",
              "      width: 32px;\n",
              "    }\n",
              "\n",
              "    .colab-df-convert:hover {\n",
              "      background-color: #E2EBFA;\n",
              "      box-shadow: 0px 1px 2px rgba(60, 64, 67, 0.3), 0px 1px 3px 1px rgba(60, 64, 67, 0.15);\n",
              "      fill: #174EA6;\n",
              "    }\n",
              "\n",
              "    .colab-df-buttons div {\n",
              "      margin-bottom: 4px;\n",
              "    }\n",
              "\n",
              "    [theme=dark] .colab-df-convert {\n",
              "      background-color: #3B4455;\n",
              "      fill: #D2E3FC;\n",
              "    }\n",
              "\n",
              "    [theme=dark] .colab-df-convert:hover {\n",
              "      background-color: #434B5C;\n",
              "      box-shadow: 0px 1px 3px 1px rgba(0, 0, 0, 0.15);\n",
              "      filter: drop-shadow(0px 1px 2px rgba(0, 0, 0, 0.3));\n",
              "      fill: #FFFFFF;\n",
              "    }\n",
              "  </style>\n",
              "\n",
              "    <script>\n",
              "      const buttonEl =\n",
              "        document.querySelector('#df-e7bae17e-aef0-4485-9a11-980afe07e5f8 button.colab-df-convert');\n",
              "      buttonEl.style.display =\n",
              "        google.colab.kernel.accessAllowed ? 'block' : 'none';\n",
              "\n",
              "      async function convertToInteractive(key) {\n",
              "        const element = document.querySelector('#df-e7bae17e-aef0-4485-9a11-980afe07e5f8');\n",
              "        const dataTable =\n",
              "          await google.colab.kernel.invokeFunction('convertToInteractive',\n",
              "                                                    [key], {});\n",
              "        if (!dataTable) return;\n",
              "\n",
              "        const docLinkHtml = 'Like what you see? Visit the ' +\n",
              "          '<a target=\"_blank\" href=https://colab.research.google.com/notebooks/data_table.ipynb>data table notebook</a>'\n",
              "          + ' to learn more about interactive tables.';\n",
              "        element.innerHTML = '';\n",
              "        dataTable['output_type'] = 'display_data';\n",
              "        await google.colab.output.renderOutput(dataTable, element);\n",
              "        const docLink = document.createElement('div');\n",
              "        docLink.innerHTML = docLinkHtml;\n",
              "        element.appendChild(docLink);\n",
              "      }\n",
              "    </script>\n",
              "  </div>\n",
              "\n",
              "\n",
              "<div id=\"df-600a80ab-2a9b-4f23-bc5f-ab7ace30b504\">\n",
              "  <button class=\"colab-df-quickchart\" onclick=\"quickchart('df-600a80ab-2a9b-4f23-bc5f-ab7ace30b504')\"\n",
              "            title=\"Suggest charts\"\n",
              "            style=\"display:none;\">\n",
              "\n",
              "<svg xmlns=\"http://www.w3.org/2000/svg\" height=\"24px\"viewBox=\"0 0 24 24\"\n",
              "     width=\"24px\">\n",
              "    <g>\n",
              "        <path d=\"M19 3H5c-1.1 0-2 .9-2 2v14c0 1.1.9 2 2 2h14c1.1 0 2-.9 2-2V5c0-1.1-.9-2-2-2zM9 17H7v-7h2v7zm4 0h-2V7h2v10zm4 0h-2v-4h2v4z\"/>\n",
              "    </g>\n",
              "</svg>\n",
              "  </button>\n",
              "\n",
              "<style>\n",
              "  .colab-df-quickchart {\n",
              "      --bg-color: #E8F0FE;\n",
              "      --fill-color: #1967D2;\n",
              "      --hover-bg-color: #E2EBFA;\n",
              "      --hover-fill-color: #174EA6;\n",
              "      --disabled-fill-color: #AAA;\n",
              "      --disabled-bg-color: #DDD;\n",
              "  }\n",
              "\n",
              "  [theme=dark] .colab-df-quickchart {\n",
              "      --bg-color: #3B4455;\n",
              "      --fill-color: #D2E3FC;\n",
              "      --hover-bg-color: #434B5C;\n",
              "      --hover-fill-color: #FFFFFF;\n",
              "      --disabled-bg-color: #3B4455;\n",
              "      --disabled-fill-color: #666;\n",
              "  }\n",
              "\n",
              "  .colab-df-quickchart {\n",
              "    background-color: var(--bg-color);\n",
              "    border: none;\n",
              "    border-radius: 50%;\n",
              "    cursor: pointer;\n",
              "    display: none;\n",
              "    fill: var(--fill-color);\n",
              "    height: 32px;\n",
              "    padding: 0;\n",
              "    width: 32px;\n",
              "  }\n",
              "\n",
              "  .colab-df-quickchart:hover {\n",
              "    background-color: var(--hover-bg-color);\n",
              "    box-shadow: 0 1px 2px rgba(60, 64, 67, 0.3), 0 1px 3px 1px rgba(60, 64, 67, 0.15);\n",
              "    fill: var(--button-hover-fill-color);\n",
              "  }\n",
              "\n",
              "  .colab-df-quickchart-complete:disabled,\n",
              "  .colab-df-quickchart-complete:disabled:hover {\n",
              "    background-color: var(--disabled-bg-color);\n",
              "    fill: var(--disabled-fill-color);\n",
              "    box-shadow: none;\n",
              "  }\n",
              "\n",
              "  .colab-df-spinner {\n",
              "    border: 2px solid var(--fill-color);\n",
              "    border-color: transparent;\n",
              "    border-bottom-color: var(--fill-color);\n",
              "    animation:\n",
              "      spin 1s steps(1) infinite;\n",
              "  }\n",
              "\n",
              "  @keyframes spin {\n",
              "    0% {\n",
              "      border-color: transparent;\n",
              "      border-bottom-color: var(--fill-color);\n",
              "      border-left-color: var(--fill-color);\n",
              "    }\n",
              "    20% {\n",
              "      border-color: transparent;\n",
              "      border-left-color: var(--fill-color);\n",
              "      border-top-color: var(--fill-color);\n",
              "    }\n",
              "    30% {\n",
              "      border-color: transparent;\n",
              "      border-left-color: var(--fill-color);\n",
              "      border-top-color: var(--fill-color);\n",
              "      border-right-color: var(--fill-color);\n",
              "    }\n",
              "    40% {\n",
              "      border-color: transparent;\n",
              "      border-right-color: var(--fill-color);\n",
              "      border-top-color: var(--fill-color);\n",
              "    }\n",
              "    60% {\n",
              "      border-color: transparent;\n",
              "      border-right-color: var(--fill-color);\n",
              "    }\n",
              "    80% {\n",
              "      border-color: transparent;\n",
              "      border-right-color: var(--fill-color);\n",
              "      border-bottom-color: var(--fill-color);\n",
              "    }\n",
              "    90% {\n",
              "      border-color: transparent;\n",
              "      border-bottom-color: var(--fill-color);\n",
              "    }\n",
              "  }\n",
              "</style>\n",
              "\n",
              "  <script>\n",
              "    async function quickchart(key) {\n",
              "      const quickchartButtonEl =\n",
              "        document.querySelector('#' + key + ' button');\n",
              "      quickchartButtonEl.disabled = true;  // To prevent multiple clicks.\n",
              "      quickchartButtonEl.classList.add('colab-df-spinner');\n",
              "      try {\n",
              "        const charts = await google.colab.kernel.invokeFunction(\n",
              "            'suggestCharts', [key], {});\n",
              "      } catch (error) {\n",
              "        console.error('Error during call to suggestCharts:', error);\n",
              "      }\n",
              "      quickchartButtonEl.classList.remove('colab-df-spinner');\n",
              "      quickchartButtonEl.classList.add('colab-df-quickchart-complete');\n",
              "    }\n",
              "    (() => {\n",
              "      let quickchartButtonEl =\n",
              "        document.querySelector('#df-600a80ab-2a9b-4f23-bc5f-ab7ace30b504 button');\n",
              "      quickchartButtonEl.style.display =\n",
              "        google.colab.kernel.accessAllowed ? 'block' : 'none';\n",
              "    })();\n",
              "  </script>\n",
              "</div>\n",
              "    </div>\n",
              "  </div>\n"
            ]
          },
          "metadata": {},
          "execution_count": 212
        }
      ]
    },
    {
      "cell_type": "code",
      "source": [
        "print(testdf)"
      ],
      "metadata": {
        "colab": {
          "base_uri": "https://localhost:8080/"
        },
        "id": "FyoTbMiv9TF8",
        "outputId": "3c5a323e-2dd5-4dba-e440-0aeab615f63b"
      },
      "execution_count": 213,
      "outputs": [
        {
          "output_type": "stream",
          "name": "stdout",
          "text": [
            "      year  temp  dewp  num_collisions  Sat  Sun  Mon  Tue  Wed  Thu  ...  \\\n",
            "1     2020  39.0  23.9             346    0    0    1    0    0    0  ...   \n",
            "2     2020  39.6  22.4             413    0    0    0    1    0    0  ...   \n",
            "3     2020  46.6  38.6             456    0    0    0    0    1    0  ...   \n",
            "4     2020  48.6  46.2             353    0    0    0    0    0    1  ...   \n",
            "5     2020  40.2  24.7             291    0    0    0    0    0    0  ...   \n",
            "...    ...   ...   ...             ...  ...  ...  ...  ...  ...  ...  ...   \n",
            "1092  2022  30.5  11.3             213    0    1    0    0    0    0  ...   \n",
            "1093  2022  38.3  20.8             221    0    0    1    0    0    0  ...   \n",
            "1094  2022  44.9  24.6             203    0    0    0    1    0    0  ...   \n",
            "1095  2022  51.9  31.1             299    0    0    0    0    1    0  ...   \n",
            "1096  2022  52.2  47.0             249    0    0    0    0    0    1  ...   \n",
            "\n",
            "      Oct  Nov  Dec     slp  visib  wdsp  gust  prcp  sndp  fog  \n",
            "1       0    0    0  1006.0   10.0   7.9  21.0  0.02   0.0    0  \n",
            "2       0    0    0  1013.2   10.0   5.2  17.1  0.00   0.0    0  \n",
            "3       0    0    0  1009.7    8.1   3.7  15.0  0.06   0.0    0  \n",
            "4       0    0    0  1005.7    4.9   2.8   0.0  0.34   0.0    1  \n",
            "5       0    0    0  1007.9   10.0  10.5  34.0  0.02   0.0    0  \n",
            "...   ...  ...  ...     ...    ...   ...   ...   ...   ...  ...  \n",
            "1092    0    0    1  1024.5   10.0   4.8   0.0  0.00   0.0    0  \n",
            "1093    0    0    1  1026.0   10.0   4.4  18.1  0.00   0.0    0  \n",
            "1094    0    0    1  1025.6   10.0   5.2  18.1  0.00   0.0    0  \n",
            "1095    0    0    1  1024.8    9.5   3.3  17.1  0.00   0.0    0  \n",
            "1096    0    0    1  1021.0    5.8   2.3   0.0  0.00   0.0    0  \n",
            "\n",
            "[1096 rows x 30 columns]\n"
          ]
        }
      ]
    },
    {
      "cell_type": "code",
      "source": [
        "testdf[\"num_collisions\"] /= 1000"
      ],
      "metadata": {
        "id": "6rElnDQb2w8e"
      },
      "execution_count": 214,
      "outputs": []
    },
    {
      "cell_type": "markdown",
      "source": [
        "The same scaling process to get num_collisions to a number between 0 and 1."
      ],
      "metadata": {
        "id": "nnMuhR5ul2wR"
      }
    },
    {
      "cell_type": "code",
      "source": [
        "test_features1 = testdf[headers].copy()\n",
        "test_labels1 = test_features1.pop('num_collisions')"
      ],
      "metadata": {
        "id": "35D9UMNu9xQs"
      },
      "execution_count": 215,
      "outputs": []
    },
    {
      "cell_type": "code",
      "source": [
        "test_features_normalized = normaliser(test_features1)\n",
        "\n",
        "\n",
        "predictions = dnn_model_1.predict(test_features_normalized)\n",
        "\n",
        "\n",
        "\n",
        "\n",
        "comparison_df = pd.DataFrame({\n",
        "    'Actual': test_labels1.values,\n",
        "    'Predicted': predictions.flatten()\n",
        "})\n"
      ],
      "metadata": {
        "colab": {
          "base_uri": "https://localhost:8080/"
        },
        "id": "Ly6Ms1Gw8hox",
        "outputId": "40928509-82a0-42bd-cfe3-df4b7465d1b1"
      },
      "execution_count": 216,
      "outputs": [
        {
          "output_type": "stream",
          "name": "stdout",
          "text": [
            "35/35 [==============================] - 0s 1ms/step\n"
          ]
        }
      ]
    },
    {
      "cell_type": "markdown",
      "source": [
        "The test data fed through the model and then a seprate dataframe is created to compare the predictions to the actual values in the test dataset."
      ],
      "metadata": {
        "id": "IJOZt_ebmCSU"
      }
    },
    {
      "cell_type": "code",
      "source": [
        "print(comparison_df.head())"
      ],
      "metadata": {
        "colab": {
          "base_uri": "https://localhost:8080/"
        },
        "id": "tayDeZnM92Ns",
        "outputId": "80b8487d-4e62-4f7a-d628-43d13dc63712"
      },
      "execution_count": 217,
      "outputs": [
        {
          "output_type": "stream",
          "name": "stdout",
          "text": [
            "   Actual  Predicted\n",
            "0   0.346 -21.842058\n",
            "1   0.413 -21.385546\n",
            "2   0.456 -21.919184\n",
            "3   0.353 -22.511644\n",
            "4   0.291 -21.770197\n"
          ]
        }
      ]
    },
    {
      "cell_type": "markdown",
      "source": [
        "The results are not very good looking at all in comparison to the model itself. Testing seems to have resulted in some bad predictions. Since the predictions are producing negative values it was be best to assume that the test data is influencing this. The model itself produced a good results and was looking fairly reliable but maybe there is an issue with the test data for this dnn."
      ],
      "metadata": {
        "id": "T0fNEjecmQL0"
      }
    },
    {
      "cell_type": "markdown",
      "source": [
        "# Conclusion"
      ],
      "metadata": {
        "id": "RAmJDt8Kmyar"
      }
    },
    {
      "cell_type": "markdown",
      "source": [
        "The DNN model that was created has produced good results which show great potential for further uses. It seems that the training data used may not be appropriate for use with the model and resulted in negative predictions. A proper analysis of the testing data would be the next step and possibly creation of new sets of test data to re-test the model. After that it would become clear as whether the model itself is the issue or it is faulty test data."
      ],
      "metadata": {
        "id": "oIXYyGYNm2Jz"
      }
    }
  ]
}